{
  "cells": [
    {
      "cell_type": "code",
      "execution_count": 8,
      "metadata": {
        "id": "VRmurBcTO4Bj"
      },
      "outputs": [],
      "source": [
        "#go-back-n\n",
        "#size of a packet= 2 characters\n",
        "#size of window on sender's side= 2 packets\n",
        "#size of window on receiver's side= 1 packets"
      ]
    },
    {
      "cell_type": "code",
      "execution_count": 9,
      "metadata": {
        "id": "WJdB8dofSHrw"
      },
      "outputs": [],
      "source": [
        "#data to be transmitted\n",
        "data= \"I am Devansh.\""
      ]
    },
    {
      "cell_type": "code",
      "execution_count": 10,
      "metadata": {
        "id": "I-mhRnegSK5R"
      },
      "outputs": [],
      "source": [
        " from random import randint"
      ]
    },
    {
      "cell_type": "code",
      "execution_count": 11,
      "metadata": {
        "colab": {
          "base_uri": "https://localhost:8080/"
        },
        "id": "Q9qzA-QTl92V",
        "outputId": "8733b0e5-bc0d-44e2-ca73-84336632d8c8"
      },
      "outputs": [
        {
          "output_type": "stream",
          "name": "stdout",
          "text": [
            "['I ', 'am', ' D', 'ev', 'an', 'sh', '.']\n"
          ]
        }
      ],
      "source": [
        "#dividing the data into chunks of 2 characters size(a packet)\n",
        "packet= list()\n",
        "\n",
        "i,length= 0,len(data)\n",
        "while i<length:\n",
        "  if i+2<length:\n",
        "    packet.append(data[i:i+2])\n",
        "    i+=2\n",
        "  else:\n",
        "    packet.append(data[i:])\n",
        "    i+=1\n",
        "\n",
        "print(packet)"
      ]
    },
    {
      "cell_type": "code",
      "execution_count": 12,
      "metadata": {
        "colab": {
          "base_uri": "https://localhost:8080/"
        },
        "id": "B3EN7bB8mx27",
        "outputId": "dc563250-5955-40db-f4e9-bed8da9112a3"
      },
      "outputs": [
        {
          "output_type": "stream",
          "name": "stdout",
          "text": [
            "[['I ', 'am'], [' D', 'ev'], ['an', 'sh'], ['.']]\n"
          ]
        }
      ],
      "source": [
        "#combine the packets into group of 2 each(size of sender's window)\n",
        "n_packets= len(packet)\n",
        "\n",
        "#sender's window\n",
        "ws= list()\n",
        "\n",
        "i=0\n",
        "while i<n_packets:\n",
        "  if i+2<n_packets:\n",
        "    ws.append(packet[i:i+2])\n",
        "    i+=2\n",
        "  else:\n",
        "    ws.append(packet[i:])\n",
        "    i+=1\n",
        "\n",
        "print(ws)"
      ]
    },
    {
      "cell_type": "code",
      "execution_count": 14,
      "metadata": {
        "colab": {
          "base_uri": "https://localhost:8080/"
        },
        "id": "wIprfa7qSN5c",
        "outputId": "54dd443e-6224-457e-857e-fb5b3cdf5ed8"
      },
      "outputs": [
        {
          "output_type": "stream",
          "name": "stdout",
          "text": [
            "Resend the packet ['I ', 'am']\n",
            "Resend the packet ['I ', 'am']\n",
            "Received Packet: I \n",
            "Resend the packet ['I ', 'am']\n",
            "Resend the packet ['I ', 'am']\n",
            "Received Packet: I \n",
            "Resend the packet ['I ', 'am']\n",
            "Resend the packet ['I ', 'am']\n",
            "Resend the packet ['I ', 'am']\n",
            "Resend the packet ['I ', 'am']\n",
            "Received Packet: I \n",
            "Received Packet: am\n",
            "Received Packet:  D\n",
            "Received Packet: ev\n",
            "Received Packet: an\n",
            "Resend the packet ['an', 'sh']\n",
            "Received Packet: an\n",
            "Resend the packet ['an', 'sh']\n",
            "Received Packet: an\n",
            "Received Packet: sh\n",
            "Received Packet: .\n"
          ]
        }
      ],
      "source": [
        "i=0\n",
        "length= len(ws)\n",
        "\n",
        "while i<length:\n",
        "  #data to be send(by sender)\n",
        "  send= ws[i]\n",
        "\n",
        "  j=0\n",
        "  while j<len(send):\n",
        "    #generate a random no. between 1 and 10.\n",
        "    #Here random no. generated will help as\n",
        "    #a timeout timer on sender's side\n",
        "    time= randint(1,10)\n",
        "\n",
        "    #time for timeout timer is 5.\n",
        "    #if time is greater than 5\n",
        "    #which means that acknowledgment has not been received\n",
        "    #from the receiver\n",
        "    #then we need to send the packet again\n",
        "    if time>5:\n",
        "      print(f'Resend the packet {send}')\n",
        "      #whole window has to be resend again\n",
        "      j=0\n",
        "    else:\n",
        "      print(f'Received Packet: {send[j]}')\n",
        "      j+=1\n",
        "  i+=1"
      ]
    },
    {
      "cell_type": "code",
      "execution_count": 13,
      "metadata": {
        "id": "Zu4Z9cvVTz8c"
      },
      "outputs": [],
      "source": [
        ""
      ]
    }
  ],
  "metadata": {
    "colab": {
      "name": "GBN.ipynb",
      "provenance": []
    },
    "kernelspec": {
      "display_name": "Python 3",
      "name": "python3"
    },
    "language_info": {
      "name": "python"
    }
  },
  "nbformat": 4,
  "nbformat_minor": 0
}