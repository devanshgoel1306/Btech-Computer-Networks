{
 "cells": [
  {
   "cell_type": "code",
   "execution_count": null,
   "id": "217dc12e",
   "metadata": {},
   "outputs": [],
   "source": [
    "#kruskal's algo is used to find minimum spanning tree"
   ]
  },
  {
   "cell_type": "code",
   "execution_count": 1,
   "id": "cce0aba7",
   "metadata": {},
   "outputs": [
    {
     "name": "stdout",
     "output_type": "stream",
     "text": [
      "Enter no. of vertex: 4\n",
      "Enter no. of edges: 5\n"
     ]
    }
   ],
   "source": [
    "#input no. of edges and vertices\n",
    "n_vertex= int(input('Enter no. of vertex: '))\n",
    "n_edges= int(input('Enter no. of edges: '))"
   ]
  },
  {
   "cell_type": "code",
   "execution_count": null,
   "id": "81603d92",
   "metadata": {},
   "outputs": [],
   "source": []
  }
 ],
 "metadata": {
  "kernelspec": {
   "display_name": "Python 3 (ipykernel)",
   "language": "python",
   "name": "python3"
  },
  "language_info": {
   "codemirror_mode": {
    "name": "ipython",
    "version": 3
   },
   "file_extension": ".py",
   "mimetype": "text/x-python",
   "name": "python",
   "nbconvert_exporter": "python",
   "pygments_lexer": "ipython3",
   "version": "3.7.11"
  }
 },
 "nbformat": 4,
 "nbformat_minor": 5
}
