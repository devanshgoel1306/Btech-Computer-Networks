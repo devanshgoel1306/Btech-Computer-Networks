{
 "cells": [
  {
   "cell_type": "code",
   "execution_count": 1,
   "id": "79ca621d",
   "metadata": {},
   "outputs": [],
   "source": [
    "#reference- https://www.youtube.com/watch?v=eTaWFhPXPz4\n",
    "#disjoint set can only be used for undirected graph."
   ]
  },
  {
   "cell_type": "code",
   "execution_count": 2,
   "id": "3788c7ad",
   "metadata": {},
   "outputs": [],
   "source": [
    "#Disjoint Set is used to find the cycle detection when we implement kruskal's algo\n",
    "#Disjoint set algo consists of two main operations- find, union\n",
    "#Find operation returns the ultimate root of a vertex which is used to check if two vertex belongs to same set or not.\n",
    "#Union operation perform union of two sets."
   ]
  },
  {
   "cell_type": "code",
   "execution_count": 5,
   "id": "ec43977c",
   "metadata": {},
   "outputs": [
    {
     "name": "stdout",
     "output_type": "stream",
     "text": [
      "Enter no. of edges: 5\n",
      "Enter no. of vertex: 4\n"
     ]
    }
   ],
   "source": [
    "#input no. of edges and vertices\n",
    "n_edges= int(input('Enter no. of edges: '))\n",
    "n_vertex= int(input('Enter no. of vertex: '))"
   ]
  },
  {
   "cell_type": "code",
   "execution_count": 6,
   "id": "e93c79b5",
   "metadata": {},
   "outputs": [
    {
     "name": "stdout",
     "output_type": "stream",
     "text": [
      "0 1\n",
      "0 2\n",
      "1 2\n",
      "2 3\n",
      "0 3\n",
      "[[0, 1], [0, 2], [1, 2], [2, 3], [0, 3]]\n"
     ]
    }
   ],
   "source": [
    "#input edges- src dest\n",
    "edges= list()\n",
    "for i in range(n_edges):\n",
    "    edge= list(map(int,input().split()))\n",
    "    edges.append(edge)\n",
    "    \n",
    "print(edges)"
   ]
  },
  {
   "cell_type": "code",
   "execution_count": 7,
   "id": "1505558c",
   "metadata": {},
   "outputs": [
    {
     "data": {
      "image/png": "[encoded data removed]",
      "text/plain": [
       "<IPython.core.display.Image object>"
      ]
     },
     "execution_count": 7,
     "metadata": {},
     "output_type": "execute_result"
    }
   ],
   "source": [
    "from IPython import display\n",
    "display.Image(\"./disjoint.PNG\")"
   ]
  },
  {
   "cell_type": "code",
   "execution_count": 13,
   "id": "e3e81cce",
   "metadata": {},
   "outputs": [
    {
     "name": "stdout",
     "output_type": "stream",
     "text": [
      "[1, 2, 3, -1]\n",
      "[[0, 1], [0, 2], [2, 3]]\n"
     ]
    }
   ],
   "source": [
    "#parent array to keep track of parent of each vertex\n",
    "#initially parent is set to -1 for each vertex\n",
    "#-1 denotes that that vertex is parent of itself\n",
    "parent= [-1]*n_vertex\n",
    "\n",
    "#to perform find operation\n",
    "def find(vertex):\n",
    "    \n",
    "    #run till we get ultimate parent\n",
    "    while parent[vertex]!=-1:\n",
    "        vertex= parent[vertex]\n",
    "        \n",
    "    return vertex    \n",
    "    \n",
    "#to perform union operation\n",
    "def union(p1,p2):\n",
    "    parent[p1]= p2\n",
    "\n",
    "#perform disjoint operations\n",
    "def disjoint(edges):\n",
    "    result= list()\n",
    "    \n",
    "    for edge in edges:\n",
    "        #find ultimate root of src and dest\n",
    "        #using find function\n",
    "        p1= find(edge[0])\n",
    "        p2= find(edge[1])\n",
    "        #print(p1,p2)\n",
    "        \n",
    "        #src and dest are disjoint\n",
    "        if p1!=p2:\n",
    "            #perform union operation\n",
    "            union(p1,p2)\n",
    "            #append the edge to the result\n",
    "            result.append(edge)\n",
    "            \n",
    "    return result\n",
    "\n",
    "result= disjoint(edges)\n",
    "print(parent)\n",
    "print(result)"
   ]
  },
  {
   "cell_type": "code",
   "execution_count": null,
   "id": "fd98c79a",
   "metadata": {},
   "outputs": [],
   "source": [
    "#Note here we can have multiple results for the same graph.\n",
    "#Other possible solutions- [[0,1],[1,2],[2,3]],[[0,2],[1,2],[2,3]] and so on."
   ]
  }
 ],
 "metadata": {
  "kernelspec": {
   "display_name": "Python 3 (ipykernel)",
   "language": "python",
   "name": "python3"
  },
  "language_info": {
   "codemirror_mode": {
    "name": "ipython",
    "version": 3
   },
   "file_extension": ".py",
   "mimetype": "text/x-python",
   "name": "python",
   "nbconvert_exporter": "python",
   "pygments_lexer": "ipython3",
   "version": "3.7.11"
  }
 },
 "nbformat": 4,
 "nbformat_minor": 5
}
