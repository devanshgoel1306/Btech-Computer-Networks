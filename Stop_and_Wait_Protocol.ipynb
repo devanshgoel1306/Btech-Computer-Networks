{
  "nbformat": 4,
  "nbformat_minor": 0,
  "metadata": {
    "colab": {
      "name": "Stop and Wait Protocol",
      "provenance": []
    },
    "kernelspec": {
      "name": "python3",
      "display_name": "Python 3"
    },
    "language_info": {
      "name": "python"
    }
  },
  "cells": [
    {
      "cell_type": "code",
      "execution_count": null,
      "metadata": {
        "id": "hn8GLikhLHFe"
      },
      "outputs": [],
      "source": [
        "#data to be transmitted\n",
        "data= \"I am Devansh.\""
      ]
    },
    {
      "cell_type": "code",
      "source": [
        "#at one time, we can send only two characters\n",
        "#or in other words, size of a packet is 2 characters"
      ],
      "metadata": {
        "id": "k-XzkGCMLQE3"
      },
      "execution_count": null,
      "outputs": []
    },
    {
      "cell_type": "code",
      "source": [
        " from random import randint"
      ],
      "metadata": {
        "id": "DAq2yTG_MbKI"
      },
      "execution_count": null,
      "outputs": []
    },
    {
      "cell_type": "code",
      "source": [
        "i=0\n",
        "length= len(data)\n",
        "while i<length:\n",
        "  #data to be send(by sender)\n",
        "  #if data to be send has at least two characters\n",
        "  if i+2<=length:\n",
        "    send= data[i:i+2]\n",
        "  #otherwise\n",
        "  else:\n",
        "    send= data[-1]\n",
        "\n",
        "  #generate a random no. between 1 and 10.\n",
        "  #Here random no. generated will help as\n",
        "  #a timeout timer on sender's side\n",
        "  time= randint(1,10)\n",
        "\n",
        "  #time for timeout timer is 5.\n",
        "  #if time is greater than 5\n",
        "  #which means that acknowledgment has not been received\n",
        "  #from the receiver\n",
        "  #then we need to send the packet again\n",
        "  if time>5:\n",
        "    print('Resend the same packet.')\n",
        "  else:\n",
        "    print(f'Received Packet: {send}')\n",
        "    i+=2\n"
      ],
      "metadata": {
        "colab": {
          "base_uri": "https://localhost:8080/"
        },
        "id": "Auw2S7HIME3C",
        "outputId": "ac3079ed-a9cc-4ec4-fadc-f206441f90cc"
      },
      "execution_count": null,
      "outputs": [
        {
          "output_type": "stream",
          "name": "stdout",
          "text": [
            "Resend the same packet.\n",
            "Resend the same packet.\n",
            "Resend the same packet.\n",
            "Received Packet: I \n",
            "Received Packet: am\n",
            "Received Packet:  D\n",
            "Resend the same packet.\n",
            "Received Packet: ev\n",
            "Resend the same packet.\n",
            "Received Packet: an\n",
            "Resend the same packet.\n",
            "Received Packet: sh\n",
            "Received Packet: .\n"
          ]
        }
      ]
    }
  ]
}