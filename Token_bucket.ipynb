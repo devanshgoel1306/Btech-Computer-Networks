{
  "nbformat": 4,
  "nbformat_minor": 0,
  "metadata": {
    "colab": {
      "name": "Token bucket.ipynb",
      "provenance": []
    },
    "kernelspec": {
      "name": "python3",
      "display_name": "Python 3"
    },
    "language_info": {
      "name": "python"
    }
  },
  "cells": [
    {
      "cell_type": "code",
      "execution_count": null,
      "metadata": {
        "id": "utyyovQwSQtb"
      },
      "outputs": [],
      "source": [
        "#bucket consisting of 'c' tokens initially\n",
        "#'r' tokens are generated per second"
      ]
    },
    {
      "cell_type": "code",
      "source": [
        "c= int(input('Initial no. of tokens: '))\n",
        "r= int(input('Rate of tokens generated per second: '))"
      ],
      "metadata": {
        "colab": {
          "base_uri": "https://localhost:8080/"
        },
        "id": "a0_Pq6-zSftO",
        "outputId": "b4503cf6-22a8-4fdc-c8e4-42893ba9a51a"
      },
      "execution_count": null,
      "outputs": [
        {
          "name": "stdout",
          "output_type": "stream",
          "text": [
            "Initial no. of tokens: 5\n",
            "Rate of tokens generated per second: 4\n"
          ]
        }
      ]
    },
    {
      "cell_type": "code",
      "source": [
        "#initial no. of packets\n",
        "i_packets= int(input('Initial no. of packets: '))"
      ],
      "metadata": {
        "colab": {
          "base_uri": "https://localhost:8080/"
        },
        "id": "-V8EVBtvTtCm",
        "outputId": "5ec41bd7-3b38-4aff-a629-e8fed55fc6d2"
      },
      "execution_count": null,
      "outputs": [
        {
          "name": "stdout",
          "output_type": "stream",
          "text": [
            "Initial no. of packets: 5\n"
          ]
        }
      ]
    },
    {
      "cell_type": "code",
      "source": [
        "from random import randint"
      ],
      "metadata": {
        "id": "kTmHSv70WCOV"
      },
      "execution_count": null,
      "outputs": []
    },
    {
      "cell_type": "code",
      "source": [
        "#to store the no. of tokens available\n",
        "tokens= c\n",
        "#to store the packets sent\n",
        "sent_p= 0\n",
        "#total packets to be transmitted\n",
        "t_packets= i_packets\n",
        "\n",
        "\n",
        "#restrict the iteration to 10 times only\n",
        "for i in range(10):\n",
        "  #if no. of packets to be transmitted is less than or\n",
        "  #equal to total no. of tokens available in bucket\n",
        "  if t_packets<=tokens:\n",
        "    print(f'{t_packets} packets are sent')\n",
        "    #update the no. of tokens available\n",
        "    tokens-= t_packets\n",
        "    #update no. of t_packets\n",
        "    t_packets= 0\n",
        "  #if no. of packets to be transmitted is greater\n",
        "  #than total no. of tokens available in bucket\n",
        "  else:\n",
        "    print(f'{tokens} packets are sent')\n",
        "    #update no. of t_packets\n",
        "    t_packets-= tokens\n",
        "    #update the no. of tokens available\n",
        "    tokens= 0\n",
        "\n",
        "  #increase the no. of tokens by c\n",
        "  tokens+=c\n",
        "\n",
        "  #increase the no. of packets using random generator\n",
        "  t_packets+= randint(1,10)\n",
        "    \n",
        "  \n"
      ],
      "metadata": {
        "colab": {
          "base_uri": "https://localhost:8080/"
        },
        "id": "E_YBtwx4TjuX",
        "outputId": "edea43d7-0b07-4c70-f28a-c2693b50eea1"
      },
      "execution_count": null,
      "outputs": [
        {
          "output_type": "stream",
          "name": "stdout",
          "text": [
            "5 packets are sent\n",
            "2 packets are sent\n",
            "8 packets are sent\n",
            "4 packets are sent\n",
            "2 packets are sent\n",
            "3 packets are sent\n",
            "6 packets are sent\n",
            "2 packets are sent\n",
            "6 packets are sent\n",
            "6 packets are sent\n"
          ]
        }
      ]
    }
  ]
}