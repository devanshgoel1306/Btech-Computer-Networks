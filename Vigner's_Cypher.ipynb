{
  "nbformat": 4,
  "nbformat_minor": 0,
  "metadata": {
    "colab": {
      "name": "Vigner's Cypheripynb",
      "provenance": []
    },
    "kernelspec": {
      "name": "python3",
      "display_name": "Python 3"
    },
    "language_info": {
      "name": "python"
    }
  },
  "cells": [
    {
      "cell_type": "code",
      "execution_count": 1,
      "metadata": {
        "colab": {
          "base_uri": "https://localhost:8080/"
        },
        "id": "241FLNKycAKI",
        "outputId": "02dd792e-59d3-476a-98ef-d5ce329348f9"
      },
      "outputs": [
        {
          "output_type": "stream",
          "name": "stdout",
          "text": [
            "{'A': 0, 'B': 1, 'C': 2, 'D': 3, 'E': 4, 'F': 5, 'G': 6, 'H': 7, 'I': 8, 'J': 9, 'K': 10, 'L': 11, 'M': 12, 'N': 13, 'O': 14, 'P': 15, 'Q': 16, 'R': 17, 'S': 18, 'T': 19, 'U': 20, 'V': 21, 'W': 22, 'X': 23, 'Y': 24, 'Z': 25}\n"
          ]
        }
      ],
      "source": [
        "#creating a dictionary\n",
        "map= dict()\n",
        "\n",
        "#ascii value of 'A' is 65\n",
        "for i in range(26):\n",
        "  map[chr(65+i)]= i\n",
        "\n",
        "print(map)"
      ]
    },
    {
      "cell_type": "code",
      "source": [
        "#input the key string\n",
        "#allowed characters are capital letters only\n",
        "key= input(\"Enter the key: \")"
      ],
      "metadata": {
        "colab": {
          "base_uri": "https://localhost:8080/"
        },
        "id": "fmuAgeeOd95T",
        "outputId": "4f17e12f-f1c3-4855-eb83-adb2a042bade"
      },
      "execution_count": 2,
      "outputs": [
        {
          "name": "stdout",
          "output_type": "stream",
          "text": [
            "Enter the key: ABC\n"
          ]
        }
      ]
    },
    {
      "cell_type": "code",
      "source": [
        "#input the string to be encrypted\n",
        "string= input(\"Enter the data to be encrypted: \")"
      ],
      "metadata": {
        "colab": {
          "base_uri": "https://localhost:8080/"
        },
        "id": "g2Y8fPRfeWKI",
        "outputId": "9238853e-aa4b-4bfa-9965-6b56afb1cad2"
      },
      "execution_count": 3,
      "outputs": [
        {
          "name": "stdout",
          "output_type": "stream",
          "text": [
            "Enter the data to be encrypted: I AM DEVA\n"
          ]
        }
      ]
    },
    {
      "cell_type": "code",
      "source": [
        "#combine the string characters with integer \n",
        "#corresponding to key characters\n",
        "combine= list()\n",
        "\n",
        "i,j=0,0\n",
        "while i<len(string):\n",
        "  j=0\n",
        "  while i<len(string) and j<len(key):\n",
        "    #skip integer when space\n",
        "    if string[i]==' ':\n",
        "      combine.append([' '])\n",
        "    else:\n",
        "      combine.append([string[i],map[key[j]]]) \n",
        "      j+=1\n",
        "    i+=1\n",
        "\n",
        "print(combine)"
      ],
      "metadata": {
        "colab": {
          "base_uri": "https://localhost:8080/"
        },
        "id": "USjMvpbEem0V",
        "outputId": "960dd35b-9fcb-46ef-8555-5e83f3e4dd6b"
      },
      "execution_count": 6,
      "outputs": [
        {
          "output_type": "stream",
          "name": "stdout",
          "text": [
            "[['I', 0], [' '], ['A', 1], ['M', 2], [' '], ['D', 0], ['E', 1], ['V', 2], ['A', 0]]\n"
          ]
        }
      ]
    },
    {
      "cell_type": "code",
      "source": [
        "#creating a dictionary\n",
        "map_= dict()\n",
        "\n",
        "#ascii value of 'A' is 65\n",
        "for i in range(26):\n",
        "  map_[i]= chr(65+i)\n",
        "\n",
        "print(map_)"
      ],
      "metadata": {
        "colab": {
          "base_uri": "https://localhost:8080/"
        },
        "id": "comqABrLinBB",
        "outputId": "fafe67db-c6b4-46d0-df06-e8ada37fb2b3"
      },
      "execution_count": 7,
      "outputs": [
        {
          "output_type": "stream",
          "name": "stdout",
          "text": [
            "{0: 'A', 1: 'B', 2: 'C', 3: 'D', 4: 'E', 5: 'F', 6: 'G', 7: 'H', 8: 'I', 9: 'J', 10: 'K', 11: 'L', 12: 'M', 13: 'N', 14: 'O', 15: 'P', 16: 'Q', 17: 'R', 18: 'S', 19: 'T', 20: 'U', 21: 'V', 22: 'W', 23: 'X', 24: 'Y', 25: 'Z'}\n"
          ]
        }
      ]
    },
    {
      "cell_type": "code",
      "source": [
        "#with the help of combine list encode the string\n",
        "encrypted= list()\n",
        "\n",
        "for value in combine:\n",
        "  #if space then add as it is\n",
        "  if value == [' ']:\n",
        "    encrypted.append(' ')\n",
        "  else:\n",
        "    temp= map_[(map[value[0]]+value[1])%26]\n",
        "    encrypted.append(temp)\n",
        "\n",
        "print(encrypted)"
      ],
      "metadata": {
        "colab": {
          "base_uri": "https://localhost:8080/"
        },
        "id": "nYt4BNdofMVK",
        "outputId": "c1e7d86b-08dc-4dae-beb4-36d15dfb41fe"
      },
      "execution_count": 8,
      "outputs": [
        {
          "output_type": "stream",
          "name": "stdout",
          "text": [
            "['I', ' ', 'B', 'O', ' ', 'D', 'F', 'X', 'A']\n"
          ]
        }
      ]
    },
    {
      "cell_type": "code",
      "source": [
        "#encrypted string\n",
        "print('Encrypted string is '+str(''.join(encrypted)))"
      ],
      "metadata": {
        "colab": {
          "base_uri": "https://localhost:8080/"
        },
        "id": "VAuQ9sbdi254",
        "outputId": "282cd5f9-ae2d-4bb5-ebf1-fc55729039c7"
      },
      "execution_count": 9,
      "outputs": [
        {
          "output_type": "stream",
          "name": "stdout",
          "text": [
            "Encrypted string is I BO DFXA\n"
          ]
        }
      ]
    }
  ]
}