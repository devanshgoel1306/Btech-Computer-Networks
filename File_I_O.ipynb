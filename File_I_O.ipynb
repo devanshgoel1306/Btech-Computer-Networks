{
 "cells": [
  {
   "cell_type": "code",
   "execution_count": null,
   "metadata": {
    "id": "VVLlAJAEgIAr"
   },
   "outputs": [],
   "source": [
    "file1 = open(\"players.txt\",'w')\n",
    "\n",
    "file1.write('M.S. Dhoni\\n')\n",
    "file1.write('Virat Kohli\\n')\n",
    "file1.write('Imran Tahir\\n')\n",
    "file1.write('Shaen Watson\\n')\n",
    "\n",
    "file1.close()"
   ]
  },
  {
   "cell_type": "code",
   "execution_count": null,
   "metadata": {
    "colab": {
     "base_uri": "https://localhost:8080/",
     "height": 163
    },
    "id": "dlyoSGMThL7l",
    "outputId": "7245d58f-81e5-4964-ca7c-69be3dfe336e"
   },
   "outputs": [
    {
     "name": "stdout",
     "output_type": "stream",
     "text": [
      "M.S. Dhoni\n",
      "\n",
      "Virat Kohli\n",
      "\n",
      "Imran Tahir\n",
      "\n",
      "Shaen Watson\n",
      "\n"
     ]
    }
   ],
   "source": [
    "x = \"players.txt\"\n",
    "file1 = open(x,\"r\")\n",
    "\n",
    "for line in file1:\n",
    "  print(line)\n",
    "\n",
    "file1.close()"
   ]
  },
  {
   "cell_type": "code",
   "execution_count": null,
   "metadata": {
    "id": "L_TuAi7Ghy5X"
   },
   "outputs": [],
   "source": [
    "y = \"country.txt\"\n",
    "file2 = open(y,'w')\n",
    "\n",
    "file2.write(\"India\\n\")\n",
    "file2.write(\"India\\n\")\n",
    "file2.write(\"South Africa\\n\")\n",
    "file2.write(\"Australia\\n\")\n",
    "\n",
    "file2.close()"
   ]
  },
  {
   "cell_type": "code",
   "execution_count": null,
   "metadata": {
    "colab": {
     "base_uri": "https://localhost:8080/",
     "height": 163
    },
    "id": "vvzFVRN7iRUh",
    "outputId": "44bc960f-ff49-4f44-e731-cb4fb2fb324d"
   },
   "outputs": [
    {
     "name": "stdout",
     "output_type": "stream",
     "text": [
      "India\n",
      "\n",
      "India\n",
      "\n",
      "South Africa\n",
      "\n",
      "Australia\n",
      "\n"
     ]
    }
   ],
   "source": [
    "file2 = open(y,\"r\")\n",
    "\n",
    "for line in file2:\n",
    "  print(line)\n",
    "\n",
    "file2.close()"
   ]
  },
  {
   "cell_type": "code",
   "execution_count": null,
   "metadata": {
    "colab": {
     "base_uri": "https://localhost:8080/",
     "height": 54
    },
    "id": "Sl9fMoe4icMm",
    "outputId": "e3547e78-150f-49c3-8ba9-d8fba334a87a"
   },
   "outputs": [
    {
     "name": "stdout",
     "output_type": "stream",
     "text": [
      "['M.S. Dhoni', 'Virat Kohli', 'Imran Tahir', 'Shaen Watson']\n",
      "['India', 'India', 'South Africa', 'Australia']\n"
     ]
    }
   ],
   "source": [
    "file1 = open(x,\"r\")\n",
    "file2 = open(y,\"r\")\n",
    "\n",
    "l1,l2 = [],[]\n",
    "\n",
    "for line in file1:\n",
    "  l1.append(line[:-1])\n",
    "\n",
    "for line in file2:\n",
    "  l2.append(line[:-1])\n",
    "\n",
    "print(l1)\n",
    "print(l2)"
   ]
  },
  {
   "cell_type": "code",
   "execution_count": null,
   "metadata": {
    "colab": {
     "base_uri": "https://localhost:8080/",
     "height": 35
    },
    "id": "Zz8V73nli4fx",
    "outputId": "d85e9b3a-006c-4379-c485-2ca9f5c431e9"
   },
   "outputs": [
    {
     "name": "stdout",
     "output_type": "stream",
     "text": [
      "[('M.S. Dhoni', 'India'), ('Virat Kohli', 'India'), ('Imran Tahir', 'South Africa'), ('Shaen Watson', 'Australia')]\n"
     ]
    }
   ],
   "source": [
    "#creating list of tuples by merging two lists\n",
    "l3 = []\n",
    "\n",
    "for i in range(len(l1)):\n",
    "  l3.append((l1[i],l2[i]))\n",
    "\n",
    "print(l3)"
   ]
  },
  {
   "cell_type": "code",
   "execution_count": null,
   "metadata": {
    "colab": {
     "base_uri": "https://localhost:8080/",
     "height": 35
    },
    "id": "mAP7dCV0lhhU",
    "outputId": "131bcde9-bfd2-4e95-bb1e-ab5935fc486d"
   },
   "outputs": [
    {
     "name": "stdout",
     "output_type": "stream",
     "text": [
      "{'M.S. Dhoni': 'India', 'Virat Kohli': 'India', 'Imran Tahir': 'South Africa', 'Shaen Watson': 'Australia'}\n"
     ]
    }
   ],
   "source": [
    "#conversion of list to dictionary\n",
    "d1 = dict(l3)\n",
    "print(d1)"
   ]
  },
  {
   "cell_type": "code",
   "execution_count": null,
   "metadata": {
    "id": "601B_tPFnXb3"
   },
   "outputs": [],
   "source": [
    "file1.close()\n",
    "file2.close()"
   ]
  },
  {
   "cell_type": "code",
   "execution_count": null,
   "metadata": {
    "colab": {
     "base_uri": "https://localhost:8080/",
     "height": 35
    },
    "id": "-L_2rXk_n00t",
    "outputId": "a09923b0-46dc-4218-e7a4-59911a6fb0ee"
   },
   "outputs": [
    {
     "data": {
      "text/plain": [
       "8"
      ]
     },
     "execution_count": 10,
     "metadata": {
      "tags": []
     },
     "output_type": "execute_result"
    }
   ],
   "source": [
    "#opening the file in append mode\n",
    "file1 = open(x,'a')\n",
    "file2 = open(y,'a')\n",
    "\n",
    "file1.write(\"Sam Curran\\n\")\n",
    "file2.write(\"England\\n\")\n",
    "\n"
   ]
  },
  {
   "cell_type": "code",
   "execution_count": null,
   "metadata": {
    "id": "pz_6u6G3r5vD"
   },
   "outputs": [],
   "source": [
    "#using writelines append the data\n",
    "\n",
    "t1 = ['Jose Hazlewood\\n',\"Murali Vijay\\n\",\"Monu Kumar\\n\"]\n",
    "t2 = ['Australia\\n', 'India\\n','India\\n']\n",
    "\n",
    "file1.writelines(t1)\n",
    "file2.writelines(t2)\n",
    "\n",
    "file1.close()\n",
    "file2.close()"
   ]
  },
  {
   "cell_type": "code",
   "execution_count": null,
   "metadata": {
    "colab": {
     "base_uri": "https://localhost:8080/",
     "height": 363
    },
    "id": "93OrHoigoPts",
    "outputId": "127f9e65-91e1-4f0c-9160-7b19697a07ff"
   },
   "outputs": [
    {
     "name": "stdout",
     "output_type": "stream",
     "text": [
      "Players list: \n",
      "M.S. Dhoni\n",
      "  Virat Kohli\n",
      "  Imran Tahir\n",
      "  Shaen Watson\n",
      "  Sam Curran\n",
      "  Jose Hazlewood\n",
      "  Murali Vijay\n",
      "  Monu Kumar\n",
      "  Country list : \n",
      "India\n",
      "  India\n",
      "  South Africa\n",
      "  Australia\n",
      "  England\n",
      "  Australia\n",
      "  India\n",
      "  India\n",
      "  "
     ]
    }
   ],
   "source": [
    "#reading the file\n",
    "file1 = open(x,'r')\n",
    "file2 = open(y,'r')\n",
    "\n",
    "print('Players list: ')\n",
    "for line in file1:\n",
    "  print(line,end = \"  \")\n",
    "\n",
    "print('Country list : ')\n",
    "for line in file2:\n",
    "  print(line,end = \"  \")"
   ]
  },
  {
   "cell_type": "code",
   "execution_count": null,
   "metadata": {
    "colab": {
     "base_uri": "https://localhost:8080/",
     "height": 235
    },
    "id": "r_8znXdho5zy",
    "outputId": "da899187-68f8-40cd-ee51-d1b1dee86e34"
   },
   "outputs": [
    {
     "name": "stdout",
     "output_type": "stream",
     "text": [
      "M.S. Dhoni\n",
      "\n",
      "Virat Kohli\n",
      "\n",
      "Imran Tahir\n",
      "\n",
      "India\n",
      "\n",
      "India\n",
      "\n",
      "South Africa\n",
      "\n"
     ]
    }
   ],
   "source": [
    "#print first n lines from a file\n",
    "file1.seek(0)\n",
    "file2.seek(0)\n",
    "\n",
    "for i in range(3):\n",
    "  print(file1.readline())\n",
    "\n",
    "for i in range(3):\n",
    "  print(file2.readline())\n"
   ]
  }
 ],
 "metadata": {
  "colab": {
   "collapsed_sections": [],
   "name": "File I/O.ipynb",
   "provenance": []
  },
  "kernelspec": {
   "display_name": "Python 3",
   "language": "python",
   "name": "python3"
  },
  "language_info": {
   "codemirror_mode": {
    "name": "ipython",
    "version": 3
   },
   "file_extension": ".py",
   "mimetype": "text/x-python",
   "name": "python",
   "nbconvert_exporter": "python",
   "pygments_lexer": "ipython3",
   "version": "3.7.4"
  }
 },
 "nbformat": 4,
 "nbformat_minor": 1
}
