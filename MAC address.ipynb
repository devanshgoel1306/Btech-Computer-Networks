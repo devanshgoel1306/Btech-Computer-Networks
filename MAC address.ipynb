{
 "cells": [
  {
   "cell_type": "code",
   "execution_count": 1,
   "id": "dc0e2eb8",
   "metadata": {},
   "outputs": [],
   "source": [
    "# MAC address\n",
    "# Address assigned to each computer for Media Access Control.\n",
    "# It is illegal to change this address.\n",
    "# MAC address is on Network Interface Card.\n",
    "# This address is used when there is local area network such as bus topology between \n",
    "# the computers.\n",
    "#Length of MAC address is 6 bytes which is subdivided in 6 parts of 1 byte each."
   ]
  },
  {
   "cell_type": "code",
   "execution_count": 2,
   "id": "46580c2d",
   "metadata": {},
   "outputs": [],
   "source": [
    "# Problem Statement\n",
    "\n",
    "# There are 3 types of MAC address:\n",
    "# 1. Unicast Address\n",
    "# Communication between one host to another host\n",
    "# LSB of 1st byte from left is 0.\n",
    "#eg- 1A:00:00:00:00:00\n",
    "\n",
    "# 2. Multicast Address\n",
    "# Communication between one host to many hosts\n",
    "# LSB of 1st byte from left is 1.\n",
    "#eg- B3:00:00:00:00:00\n",
    "                    \n",
    "# 3. Broadcast Address\n",
    "# Communication between one host to every other host on network\n",
    "# All bits are 1.\n",
    "#eg- FF:FF:FF:FF:FF:FF\n",
    "                    \n",
    "# Identify the type of address given by the user."
   ]
  },
  {
   "cell_type": "code",
   "execution_count": 3,
   "id": "7a019826",
   "metadata": {},
   "outputs": [
    {
     "name": "stdout",
     "output_type": "stream",
     "text": [
      "No. of address: 5\n"
     ]
    }
   ],
   "source": [
    "#input the no. of address user wanted to check\n",
    "n= int(input('No. of address: '))"
   ]
  },
  {
   "cell_type": "code",
   "execution_count": 5,
   "id": "d5e92c2c",
   "metadata": {},
   "outputs": [
    {
     "name": "stdout",
     "output_type": "stream",
     "text": [
      "1A:00:00:00:00:00\n",
      "Unicast Address\n",
      "B3:00:00:00:00:00\n",
      "Multicast Address\n",
      "FF:FF:FF:FF:FF:FF\n",
      "Broadcast Address\n",
      "FF:00:00:00:00:00\n",
      "Multicast Address\n",
      "1A:FF:FF:FF:FF:FF\n",
      "Unicast Address\n"
     ]
    }
   ],
   "source": [
    "for i in range(n):\n",
    "    #input MAC address\n",
    "    mac= input()\n",
    "    \n",
    "    #divide the mac in subparts\n",
    "    sub_part= list(mac.split(':'))\n",
    "    \n",
    "    #check lsb of 1st part\n",
    "    lsb= sub_part[0][-1]\n",
    "    \n",
    "    #if lsb contains 0 in binary form\n",
    "    if lsb in ['0','2','4','6','8','A','C','E']:\n",
    "        print('Unicast Address')\n",
    "    else:\n",
    "        #check if all bits are 1\n",
    "        for part in sub_part:\n",
    "            if part!='FF':\n",
    "                print('Multicast Address')\n",
    "                break\n",
    "        else:\n",
    "            print('Broadcast Address')"
   ]
  }
 ],
 "metadata": {
  "kernelspec": {
   "display_name": "Python 3 (ipykernel)",
   "language": "python",
   "name": "python3"
  },
  "language_info": {
   "codemirror_mode": {
    "name": "ipython",
    "version": 3
   },
   "file_extension": ".py",
   "mimetype": "text/x-python",
   "name": "python",
   "nbconvert_exporter": "python",
   "pygments_lexer": "ipython3",
   "version": "3.7.11"
  }
 },
 "nbformat": 4,
 "nbformat_minor": 5
}
