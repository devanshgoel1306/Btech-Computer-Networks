{
 "cells": [
  {
   "cell_type": "code",
   "execution_count": null,
   "id": "a072e3d6",
   "metadata": {},
   "outputs": [],
   "source": [
    "Problem statemtent\n",
    "There are 7 layers in OSI model:\n",
    "    1. Application\n",
    "    2. Presentation\n",
    "    3. Session\n",
    "    4. Transport\n",
    "    5. Network\n",
    "    6. Data link\n",
    "    7. Physical\n",
    "    \n",
    "User will enter the type of communication:\n",
    "    1. Process to Process\n",
    "    2. Host to Host\n",
    "    3. Hop to Hop\n",
    " \n",
    "Print the layers which we need to pass through to have the type of \n",
    "communication entered by the user.\n",
    "(You have to use stack to solve the problem.)\n",
    "NOTE:\n",
    "    Process to Process takes place at transport layer.\n",
    "    Network layer is involved in Host to Host communication.\n",
    "    Hop to Hop is done at Data Link Layer."
   ]
  },
  {
   "cell_type": "code",
   "execution_count": 1,
   "id": "e58b110e",
   "metadata": {},
   "outputs": [],
   "source": [
    "#stack storing layers in OSI model\n",
    "stack= ['Physical','Data link','Network','Transport','Session','Presentation',\n",
    "       'Application']"
   ]
  },
  {
   "cell_type": "code",
   "execution_count": 3,
   "id": "ceff2a2b",
   "metadata": {},
   "outputs": [
    {
     "name": "stdout",
     "output_type": "stream",
     "text": [
      "Enter no. of queries: 3\n"
     ]
    }
   ],
   "source": [
    "#input no. of queries of user\n",
    "n_query= int(input(\"Enter no. of queries: \"))"
   ]
  },
  {
   "cell_type": "code",
   "execution_count": 4,
   "id": "5ab639d9",
   "metadata": {},
   "outputs": [],
   "source": [
    "from copy import deepcopy"
   ]
  },
  {
   "cell_type": "code",
   "execution_count": 5,
   "id": "744f37af",
   "metadata": {},
   "outputs": [
    {
     "name": "stdout",
     "output_type": "stream",
     "text": [
      "Enter type of communication: Process to Process\n",
      "Application\n",
      "Presentation\n",
      "Session\n",
      "Enter type of communication: Host to Host\n",
      "Application\n",
      "Presentation\n",
      "Session\n",
      "Transport\n",
      "Enter type of communication: Hop to Hop\n",
      "Application\n",
      "Presentation\n",
      "Session\n",
      "Transport\n",
      "Network\n"
     ]
    }
   ],
   "source": [
    "for i in range(n_query):\n",
    "    #input the user's query\n",
    "    query= input(\"Enter type of communication: \")\n",
    "    \n",
    "    #create deepcopy of stack\n",
    "    stack_= deepcopy(stack)\n",
    "    \n",
    "    #get no. of layers to be passed\n",
    "    n_pop= 0\n",
    "    if query=='Process to Process':\n",
    "        #pop 3 times\n",
    "        n_pop= 3\n",
    "    elif query=='Host to Host':\n",
    "        #pop 4 times\n",
    "        n_pop= 4\n",
    "    else:\n",
    "        #pop 5 times\n",
    "        n_pop= 5\n",
    "        \n",
    "    for j in range(n_pop):\n",
    "        print(stack_.pop())\n",
    "        "
   ]
  },
  {
   "cell_type": "code",
   "execution_count": null,
   "id": "5f72314c",
   "metadata": {},
   "outputs": [],
   "source": []
  }
 ],
 "metadata": {
  "kernelspec": {
   "display_name": "Python 3 (ipykernel)",
   "language": "python",
   "name": "python3"
  },
  "language_info": {
   "codemirror_mode": {
    "name": "ipython",
    "version": 3
   },
   "file_extension": ".py",
   "mimetype": "text/x-python",
   "name": "python",
   "nbconvert_exporter": "python",
   "pygments_lexer": "ipython3",
   "version": "3.7.11"
  }
 },
 "nbformat": 4,
 "nbformat_minor": 5
}
