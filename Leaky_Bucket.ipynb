{
  "nbformat": 4,
  "nbformat_minor": 0,
  "metadata": {
    "colab": {
      "name": "Leaky Bucket.ipynb",
      "provenance": []
    },
    "kernelspec": {
      "name": "python3",
      "display_name": "Python 3"
    },
    "language_info": {
      "name": "python"
    }
  },
  "cells": [
    {
      "cell_type": "code",
      "execution_count": null,
      "metadata": {
        "colab": {
          "base_uri": "https://localhost:8080/"
        },
        "id": "ygwV5uazXE7R",
        "outputId": "e4c87993-81d1-43d9-cfd6-fa5b1924438a"
      },
      "outputs": [
        {
          "name": "stdout",
          "output_type": "stream",
          "text": [
            "Size of leak in bucket: 4\n"
          ]
        }
      ],
      "source": [
        "#input the size of leak in bucket\n",
        "s_leak= int(input('Size of leak in bucket: '))"
      ]
    },
    {
      "cell_type": "code",
      "source": [
        "from random import randint"
      ],
      "metadata": {
        "id": "QPmb5xUoY9zk"
      },
      "execution_count": null,
      "outputs": []
    },
    {
      "cell_type": "code",
      "source": [
        "for i in range(10):\n",
        "  #generate the no. of packets using random generator\n",
        "  packets= randint(1,10)\n",
        "\n",
        "  #if no. of packets generated is less than \n",
        "  #or equal to leak size\n",
        "  if packets<=s_leak:\n",
        "    print(f'{packets} are sent')\n",
        "  else:\n",
        "    print(f'{s_leak} are sent')"
      ],
      "metadata": {
        "colab": {
          "base_uri": "https://localhost:8080/"
        },
        "id": "S3aAOEbJYWfT",
        "outputId": "aff14a84-1882-474f-9946-93858e237f0d"
      },
      "execution_count": null,
      "outputs": [
        {
          "output_type": "stream",
          "name": "stdout",
          "text": [
            "4 are sent\n",
            "4 are sent\n",
            "4 are sent\n",
            "4 are sent\n",
            "3 are sent\n",
            "3 are sent\n",
            "4 are sent\n",
            "4 are sent\n",
            "4 are sent\n",
            "4 are sent\n"
          ]
        }
      ]
    }
  ]
}