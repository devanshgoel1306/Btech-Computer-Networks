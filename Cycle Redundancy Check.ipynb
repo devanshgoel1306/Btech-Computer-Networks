{
 "cells": [
  {
   "cell_type": "code",
   "execution_count": 1,
   "metadata": {},
   "outputs": [
    {
     "data": {
      "text/plain": [
       "\"\\nCycle redundancy check(also known as modulo by 2 method) is used to check if any error occurs while sending message from receiver \\nto sender.\\n\\nSender's Message is present in sender.txt. (Message is stored in binary format.)\\nReceiver's recieved message will be saved in receiver.txt.\\n\\nAlgo\\nDecide a unique key of 'n' bits which is known by both sender and reciever.\\n \\nOn Receiver's side\\n1. Create a new binary string by appending 'n-1' 0's at the end of message data.\\n2. Perform xor operation using unique key and new binary string.\\n(XOR OPERATION IS PERFORMED UNTIL RESULT HAS MORE THAN OR EQUAL TO N BITS.\\nEX- SUPPOSE UNIQUE KEY CONSISTS OF 4 BITS- 1101\\nMESSAGE DATA- 11011\\nNEW BINARY STRING - 11011 000 (3 ZEROES APPENDED AT THE END)\\n\\nPERFORMING XOR OPERATION\\n11011 000\\n1101\\nRESULT- 00001 000(REMOVE LEADING 0'S)\\n1000\\n1101\\nRESULT- 0101\\nON REMOVING LEADING 0'S FROM RESULT- 101\\nCLEARLY, LENGTH OF RESULT IS NOW LESS THAN 'N' BITS.\\nSO, WE STOP PERFORMING XOR OPERATION.\\nNOW, CREATE A NEW MESSAGE STRING BY APPENDING RESULT BITS WITH ORIGINAL MESSAGE.\\nMESSAGE SENT TO RECEIVER- 11011 101\\n)\\n\\n\""
      ]
     },
     "execution_count": 1,
     "metadata": {},
     "output_type": "execute_result"
    }
   ],
   "source": [
    "'''\n",
    "Cycle redundancy check(also known as modulo by 2 method) is used to check if any error occurs while sending message from receiver \n",
    "to sender.\n",
    "\n",
    "Sender's Message is present in sender.txt. (Message is stored in binary format.)\n",
    "Receiver's recieved message will be saved in receiver.txt.\n",
    "\n",
    "Algo\n",
    "Decide a unique key of 'n' bits which is known by both sender and reciever.\n",
    " \n",
    "On Receiver's side\n",
    "1. Create a new binary string by appending 'n-1' 0's at the end of message data.\n",
    "2. Perform xor operation using unique key and new binary string.\n",
    "(XOR OPERATION IS PERFORMED UNTIL RESULT HAS MORE THAN OR EQUAL TO N BITS.\n",
    "EX- SUPPOSE UNIQUE KEY CONSISTS OF 4 BITS- 1101\n",
    "MESSAGE DATA- 11011\n",
    "NEW BINARY STRING - 11011 000 (3 ZEROES APPENDED AT THE END)\n",
    "\n",
    "PERFORMING XOR OPERATION\n",
    "11011 000\n",
    "1101\n",
    "RESULT- 00001 000(REMOVE LEADING 0'S)\n",
    "1000\n",
    "1101\n",
    "RESULT- 0101\n",
    "ON REMOVING LEADING 0'S FROM RESULT- 101\n",
    "CLEARLY, LENGTH OF RESULT IS NOW LESS THAN 'N' BITS.\n",
    "SO, WE STOP PERFORMING XOR OPERATION.\n",
    "NOW, CREATE A NEW MESSAGE STRING BY APPENDING RESULT BITS WITH ORIGINAL MESSAGE.\n",
    "MESSAGE SENT TO RECEIVER- 11011 101\n",
    ")\n",
    "'''"
   ]
  },
  {
   "cell_type": "code",
   "execution_count": 2,
   "metadata": {},
   "outputs": [
    {
     "name": "stdout",
     "output_type": "stream",
     "text": [
      "Enter unique key:1101\n"
     ]
    }
   ],
   "source": [
    "#input crc generator(unique key)\n",
    "crc= input('Enter unique key:')"
   ]
  },
  {
   "cell_type": "markdown",
   "metadata": {},
   "source": [
    "ON SENDER'S END"
   ]
  },
  {
   "cell_type": "code",
   "execution_count": 3,
   "metadata": {},
   "outputs": [],
   "source": [
    "#take message from sender file\n",
    "sender= \"sender\"\n",
    "file1= open(sender,'r')"
   ]
  },
  {
   "cell_type": "code",
   "execution_count": 4,
   "metadata": {},
   "outputs": [
    {
     "data": {
      "text/plain": [
       "'0101'"
      ]
     },
     "execution_count": 4,
     "metadata": {},
     "output_type": "execute_result"
    }
   ],
   "source": [
    "#our message consists of continuous binary digits\n",
    "#so we need to extract a line\n",
    "message= file1.readline()\n",
    "message"
   ]
  },
  {
   "cell_type": "code",
   "execution_count": 5,
   "metadata": {},
   "outputs": [],
   "source": [
    "file1.close()"
   ]
  },
  {
   "cell_type": "code",
   "execution_count": 6,
   "metadata": {},
   "outputs": [
    {
     "name": "stdout",
     "output_type": "stream",
     "text": [
      "0101110\n"
     ]
    }
   ],
   "source": [
    "#technique used to detect error\n",
    "#algo\n",
    "#1. we have message bits and crc generator given to us\n",
    "len_crc= len(crc)\n",
    "\n",
    "#2. append (n-1) 0's where n is the no. of bits in crc generator to the message\n",
    "temp= message+'0'*(len_crc-1)\n",
    "#print(temp)\n",
    "\n",
    "#3. perform xor operation(division by 2) on crc and temp\n",
    "#find index in temp for 1's '1' from left\n",
    "def find_index(temp):\n",
    "    length= len(temp)\n",
    "    i=0\n",
    "    while i<length and temp[i]=='0':\n",
    "        i+=1\n",
    "\n",
    "    return i\n",
    "\n",
    "def solve(temp,crc):\n",
    "    #perform one time xor operation before.\n",
    "    #It is because when we perform xor operation first time\n",
    "    #then irrespective of the 1st bit(either 0 or 1) in temp we have to perform xor operation.\n",
    "    #After that, xor operation is performed with respect to first 1 from left.\n",
    "    xor(temp,0,crc)\n",
    "    #print(temp)\n",
    "\n",
    "    #find index in temp for first '1' from left\n",
    "    index= find_index(temp)\n",
    "    #print(index)\n",
    "\n",
    "    #length= len(temp)\n",
    "\n",
    "    while len(temp[index:])>=len_crc:\n",
    "        \n",
    "        #print(index)\n",
    "\n",
    "        #we need to perform xor operation till we have 4 bits left\n",
    "        #if index+4<len\n",
    "        xor(temp,index,crc)\n",
    "\n",
    "\n",
    "        #find index in temp for first '1' from left\n",
    "        index= find_index(temp)\n",
    "        #print(index)\n",
    "\n",
    "    #print(temp)\n",
    "    #return the bits to be appended to the actual message\n",
    "    result= temp[index:]\n",
    "    #no. of zeros to add\n",
    "    n_zero= len_crc-1-len(result)\n",
    "    for i in range(n_zero): result.append('0')\n",
    "\n",
    "    return result\n",
    "    \n",
    "\n",
    "def xor(temp, index, crc):\n",
    "    i=0\n",
    "    j= index\n",
    "    while i<len_crc:\n",
    "        if crc[i]==temp[j]:\n",
    "            temp[j]= '0'\n",
    "        else:\n",
    "            temp[j]= '1'\n",
    "        j+=1\n",
    "        i+=1\n",
    "    \n",
    "\n",
    "#convert temp to a list\n",
    "#because string is immutable\n",
    "temp= [char for char in temp]\n",
    "\n",
    "#bits to be added at the end of actual message\n",
    "add_bits= ''.join(solve(temp, crc))\n",
    "\n",
    "#message bits sent to receiver\n",
    "receiver= message+add_bits\n",
    "\n",
    "print(receiver)"
   ]
  },
  {
   "cell_type": "markdown",
   "metadata": {},
   "source": [
    "ON RECEIVER'S END"
   ]
  },
  {
   "cell_type": "code",
   "execution_count": 7,
   "metadata": {},
   "outputs": [
    {
     "name": "stdout",
     "output_type": "stream",
     "text": [
      "0101110\n"
     ]
    }
   ],
   "source": [
    "#save the message for receiver in receive file\n",
    "\n",
    "#delete any pre-existing file with name receive.txt\n",
    "import os\n",
    "if os.path.exists('C:/Users/adarsh/Desktop/computer networks_daa/receive.txt'):\n",
    "    os.remove('C:/Users/adarsh/Desktop/computer networks_daa/receive.txt')\n",
    "    \n",
    "#create a file\n",
    "file2= open(\"receive.txt\",\"w\")\n",
    "#write the message received from sender\n",
    "file2.write(receiver)\n",
    "print(receiver)\n",
    "file2.close()"
   ]
  },
  {
   "cell_type": "code",
   "execution_count": 8,
   "metadata": {},
   "outputs": [
    {
     "name": "stdout",
     "output_type": "stream",
     "text": [
      "No Error detected!\n"
     ]
    }
   ],
   "source": [
    "#read file receive.txt\n",
    "file2= open(\"receive.txt\",\"r\")\n",
    "\n",
    "#write the message received from sender\n",
    "received= file2.readline()\n",
    "#print(received)\n",
    "\n",
    "#get remainder by performing xor operation\n",
    "rem= solve([char for char in received],crc)\n",
    "#print(rem)\n",
    "\n",
    "if '1' in rem:\n",
    "    print('Error detected!')\n",
    "else:\n",
    "    print('No Error detected!')\n",
    "    \n",
    "file2.close()"
   ]
  },
  {
   "cell_type": "code",
   "execution_count": null,
   "metadata": {},
   "outputs": [],
   "source": []
  }
 ],
 "metadata": {
  "kernelspec": {
   "display_name": "Python 3 (ipykernel)",
   "language": "python",
   "name": "python3"
  },
  "language_info": {
   "codemirror_mode": {
    "name": "ipython",
    "version": 3
   },
   "file_extension": ".py",
   "mimetype": "text/x-python",
   "name": "python",
   "nbconvert_exporter": "python",
   "pygments_lexer": "ipython3",
   "version": "3.7.11"
  }
 },
 "nbformat": 4,
 "nbformat_minor": 4
}
