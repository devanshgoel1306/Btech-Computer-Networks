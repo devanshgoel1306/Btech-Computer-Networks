{
 "cells": [
  {
   "cell_type": "code",
   "execution_count": 94,
   "metadata": {},
   "outputs": [],
   "source": [
    "import numpy as np"
   ]
  },
  {
   "cell_type": "code",
   "execution_count": 95,
   "metadata": {},
   "outputs": [
    {
     "name": "stdout",
     "output_type": "stream",
     "text": [
      "No. of vertex: 6\n",
      "No. of edges: 8\n"
     ]
    }
   ],
   "source": [
    "#dijakstra algorithm for finding shortest path between a source and all other vertices\n",
    "n_vertex= int(input(\"No. of vertex: \"))\n",
    "n_edges= int(input(\"No. of edges: \"))"
   ]
  },
  {
   "cell_type": "code",
   "execution_count": 96,
   "metadata": {},
   "outputs": [
    {
     "name": "stdout",
     "output_type": "stream",
     "text": [
      "Enter source, destination and weight\n",
      "0 1 7\n",
      "0 2 12\n",
      "1 2 2\n",
      "1 3 9\n",
      "2 4 10\n",
      "3 5 1\n",
      "4 3 4\n",
      "4 5 5\n"
     ]
    }
   ],
   "source": [
    "#store weight of edges in adjacency matrix\n",
    "#initialize all entries of adjacency matrix with 0\n",
    "adjacency= np.zeros((n_vertex,n_vertex),dtype=int)\n",
    "\n",
    "#get weight of each edge in directed graph\n",
    "print('Enter source, destination and weight')\n",
    "for i in range(n_edges):\n",
    "    src,dest,weight= map(int,input().split())\n",
    "    adjacency[src][dest]= weight"
   ]
  },
  {
   "cell_type": "code",
   "execution_count": 9,
   "metadata": {},
   "outputs": [
    {
     "data": {
      "text/plain": [
       "'algo\\n1. Take 3 arrays- i.e. parent, visited, cost (size of all arrays will be equal to no. of vertex in graph)\\n(Initialize parent with -1, visited with False and cost with infinity except first node.\\nWe are using parent array so that we can retrieve shortest path spanning tree.\\nVisited keeps check of nodes for which shortest path has been found out.\\nCost stores cost for each node from source node.) \\n2. Take node with smallest cost and which is unprocessed also.\\n3. Relax all outgoing edges from it.\\n if cost(u)+cost(uv)<cost(v)\\n     cost(v)= cost(u)+cost(uv)\\n     here u is the node which is under process and v is any outgoing node from u\\n4. Repeat steps 2 and 3 until all nodes have been processed.\\n5. With the help of parent array get mst\\n'"
      ]
     },
     "execution_count": 9,
     "metadata": {},
     "output_type": "execute_result"
    }
   ],
   "source": [
    "'''algo\n",
    "1. Take 3 arrays- i.e. parent, visited, cost (size of all arrays will be equal to no. of vertex in graph)\n",
    "(Initialize parent with -1, visited with False and cost with infinity except first node.\n",
    "We are using parent array so that we can retrieve shortest path spanning tree.\n",
    "Visited keeps check of nodes for which shortest path has been found out.\n",
    "Cost stores cost for each node from source node.) \n",
    "2. Take node with smallest cost and which is unprocessed also.\n",
    "3. Relax all outgoing edges from it.\n",
    " if cost(u)+cost(uv)<cost(v)\n",
    "     cost(v)= cost(u)+cost(uv)\n",
    "     here u is the node which is under process and v is any outgoing node from u\n",
    "4. Repeat steps 2 and 3 until all nodes have been processed.\n",
    "5. With the help of parent array get mst\n",
    "'''"
   ]
  },
  {
   "cell_type": "code",
   "execution_count": 97,
   "metadata": {},
   "outputs": [],
   "source": [
    "#initilization of required arrays\n",
    "parent= np.array([-1]*n_vertex,dtype=int)\n",
    "visited= np.array([False]*n_vertex,dtype=bool)\n",
    "\n",
    "temp= [0] #cost from source to source\n",
    "temp.extend([1000]*(n_vertex-1))\n",
    "cost= np.array(temp,dtype=int)"
   ]
  },
  {
   "cell_type": "code",
   "execution_count": 98,
   "metadata": {},
   "outputs": [],
   "source": [
    "#find node with minimum cost and which is not visited\n",
    "def find_min(cost,visited):\n",
    "    min_cost= 1000\n",
    "    index= -1\n",
    "    \n",
    "    for i in range(len(cost)):\n",
    "        if cost[i]<min_cost and not visited[i]:\n",
    "            #update min_cost\n",
    "            min_cost= cost[i]\n",
    "            index= i\n",
    "            \n",
    "    return index\n",
    "\n",
    "#tc-O(V^2) traversing the adjacency matrix of dimension v*v\n",
    "#sc- O(V^2) storing the adjacency matrix of dimension v*v\n",
    "def dijkastra(adjacency,n_vertex,cost,parent,visited):\n",
    "    \n",
    "    #Run loop until all nodes have been visited\n",
    "    while False in visited:\n",
    "        #find node with minimum cost and which is not visited\n",
    "        index= find_min(cost,visited)\n",
    "        #print('index '+str(index))\n",
    "        \n",
    "        for i in range(n_vertex):\n",
    "            #check if edge exists and vertex i is unvisited\n",
    "            if adjacency[index][i]!=0 and not visited[i]:\n",
    "                #print(i)\n",
    "                #relax outgoing edges\n",
    "                if cost[index]+adjacency[index][i]<cost[i]:\n",
    "                    cost[i]= cost[index]+adjacency[index][i]\n",
    "                    #update parent\n",
    "                    parent[i]= index\n",
    "        \n",
    "        #print(index)\n",
    "        #mark index node as visited\n",
    "        visited[index]= True"
   ]
  },
  {
   "cell_type": "code",
   "execution_count": 99,
   "metadata": {},
   "outputs": [],
   "source": [
    "try:\n",
    "    dijkastra(adjacency,n_vertex,cost,parent,visited)\n",
    "except:\n",
    "    print('Code not working')\n",
    "    pass"
   ]
  },
  {
   "cell_type": "code",
   "execution_count": 100,
   "metadata": {},
   "outputs": [
    {
     "name": "stdout",
     "output_type": "stream",
     "text": [
      "cost  [ 0  7  9 16 19 17] parent  [-1  0  1  1  2  3] visited  [ True  True  True  True  True  True]\n"
     ]
    }
   ],
   "source": [
    "print('cost ',cost,'parent ',parent,'visited ',visited)"
   ]
  },
  {
   "cell_type": "code",
   "execution_count": 101,
   "metadata": {},
   "outputs": [
    {
     "name": "stdout",
     "output_type": "stream",
     "text": [
      "Required spanning tree\n",
      "Source node is 0\n",
      "0 1\n",
      "1 2\n",
      "1 3\n",
      "2 4\n",
      "3 5\n"
     ]
    }
   ],
   "source": [
    "print('Required spanning tree')\n",
    "print('Source node is 0')\n",
    "\n",
    "#first node is source\n",
    "#that'swhy overpassing that node\n",
    "for i in range(1,n_vertex):\n",
    "    print(parent[i],i)"
   ]
  },
  {
   "cell_type": "code",
   "execution_count": null,
   "metadata": {},
   "outputs": [],
   "source": []
  }
 ],
 "metadata": {
  "kernelspec": {
   "display_name": "Python 3 (ipykernel)",
   "language": "python",
   "name": "python3"
  },
  "language_info": {
   "codemirror_mode": {
    "name": "ipython",
    "version": 3
   },
   "file_extension": ".py",
   "mimetype": "text/x-python",
   "name": "python",
   "nbconvert_exporter": "python",
   "pygments_lexer": "ipython3",
   "version": "3.7.11"
  }
 },
 "nbformat": 4,
 "nbformat_minor": 4
}
