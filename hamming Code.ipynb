{
 "cells": [
  {
   "cell_type": "code",
   "execution_count": 3,
   "id": "0d396756",
   "metadata": {},
   "outputs": [],
   "source": [
    "#Hamming code is used for single bit error correction in message signal.\n",
    "#In this technique we add parity bits at specific position in message signal.\n",
    "#Here, we will be considering even-parity of 1"
   ]
  },
  {
   "cell_type": "code",
   "execution_count": 4,
   "id": "374705b7",
   "metadata": {},
   "outputs": [
    {
     "name": "stdout",
     "output_type": "stream",
     "text": [
      "Enter message: 0101\n"
     ]
    }
   ],
   "source": [
    "#input the message data\n",
    "message= input(\"Enter message: \")"
   ]
  },
  {
   "cell_type": "code",
   "execution_count": 5,
   "id": "33954a9d",
   "metadata": {},
   "outputs": [
    {
     "name": "stdout",
     "output_type": "stream",
     "text": [
      "3\n"
     ]
    }
   ],
   "source": [
    "#calculate the no. of parity bits required\n",
    "#no. of parity bits required depends on the size of message signal\n",
    "#size of message signal\n",
    "size_m= len(message)\n",
    "\n",
    "#finding the no. of parity bits\n",
    "def find(size_m):\n",
    "    #no. of parity bits\n",
    "    p=1\n",
    "    while 2**p<p+size_m+1:\n",
    "        p+=1\n",
    "    return p\n",
    "\n",
    "p= find(size_m)\n",
    "print(p)"
   ]
  },
  {
   "cell_type": "code",
   "execution_count": 6,
   "id": "eda43489",
   "metadata": {},
   "outputs": [
    {
     "name": "stdout",
     "output_type": "stream",
     "text": [
      "[1, 2, 4]\n"
     ]
    }
   ],
   "source": [
    "#now total size of message including parity bits\n",
    "new_size= size_m+p\n",
    "#parity bits are placed at the position with value 2^i  where i=0,1,2,..\n",
    "#get the position of parity bits in new message\n",
    "def position(size):\n",
    "    pos= list()\n",
    "    i=0\n",
    "    while 2**i<size:\n",
    "        pos.append(2**i)\n",
    "        i+= 1\n",
    "    return pos\n",
    "\n",
    "pos= position(new_size)\n",
    "print(pos)"
   ]
  },
  {
   "cell_type": "code",
   "execution_count": 7,
   "id": "bd099f3b",
   "metadata": {},
   "outputs": [
    {
     "name": "stdout",
     "output_type": "stream",
     "text": [
      "[-1, -1, 0, -1, 1, 0, 1]\n"
     ]
    }
   ],
   "source": [
    "#creating a list to store the bits of new message\n",
    "new_m= [0]*new_size\n",
    "\n",
    "#where parity bits has to be placed\n",
    "#put there -1 temporarily\n",
    "j=0\n",
    "for i in range(new_size):\n",
    "    #for parity bits\n",
    "    #adding 1 because of indexing\n",
    "    if i+1 in pos:\n",
    "        new_m[i]= -1\n",
    "    #for message bits\n",
    "    else:\n",
    "        new_m[i]= int(message[j])\n",
    "        j+=1\n",
    "print(new_m)\n"
   ]
  },
  {
   "cell_type": "code",
   "execution_count": 8,
   "id": "94634e44",
   "metadata": {},
   "outputs": [
    {
     "name": "stdout",
     "output_type": "stream",
     "text": [
      "[0, 1, 0, 0, 1, 0, 1]\n"
     ]
    }
   ],
   "source": [
    "#check even parity for 1's\n",
    "def check_parity(message,temp):\n",
    "    \n",
    "    #check bits at position stored in temp\n",
    "    count_1= 0\n",
    "    for i in temp:\n",
    "        #(i-1) because of indexing\n",
    "        if message[i-1]==1: count_1+=1\n",
    "    \n",
    "    result= 0\n",
    "    if count_1%2==0: result= 1\n",
    "    return result\n",
    "            \n",
    "    \n",
    "#get the position of new message for which each parity bit will take care\n",
    "for val in pos:\n",
    "    #list storing the value of bits of which parity bit at position val will take care\n",
    "    temp= list()\n",
    "    \n",
    "    for i in range(1,new_size+1):\n",
    "        if val&i==val:\n",
    "            temp.append(i)\n",
    "            \n",
    "    #get the actual value of parity bits using even parity for 1's\n",
    "    result= check_parity(new_m,temp)\n",
    "    if result==1:\n",
    "        new_m[val-1]= 0\n",
    "    else:\n",
    "        new_m[val-1]= 1\n",
    "        \n",
    "#message which will be send by sender\n",
    "print(new_m)"
   ]
  },
  {
   "cell_type": "code",
   "execution_count": 24,
   "id": "e8bbbfd4",
   "metadata": {},
   "outputs": [
    {
     "name": "stdout",
     "output_type": "stream",
     "text": [
      "[0, 1, 0, 0, 1, 0, 0]\n"
     ]
    }
   ],
   "source": [
    "#message received on receiver side\n",
    "#received= new_m\n",
    "#we changed the value of 7th bit position to '0'\n",
    "#to check our algorithm\n",
    "received= [0, 1, 0, 0, 1, 0, 0]\n",
    "print(received)"
   ]
  },
  {
   "cell_type": "code",
   "execution_count": 25,
   "id": "49828f3d",
   "metadata": {},
   "outputs": [
    {
     "name": "stdout",
     "output_type": "stream",
     "text": [
      "[0, 1, 0, 0, 1, 0, 1]\n"
     ]
    }
   ],
   "source": [
    "#to store the bit positions in which even-parity is detected as disturbed\n",
    "disturb= list()\n",
    "\n",
    "for val in pos:\n",
    "    #list storing the value of bits of which parity bit at position val will take care\n",
    "    temp= list()\n",
    "    \n",
    "    for i in range(1,new_size+1):\n",
    "        if val&i==val:\n",
    "            temp.append(i)\n",
    "            \n",
    "    result= check_parity(received,temp)\n",
    "    \n",
    "    #if even-parity is disturbed\n",
    "    #or there is error\n",
    "    if result!=1:\n",
    "        #store the position's\n",
    "        disturb.append(temp)\n",
    "        \n",
    "#disturbed bit positions\n",
    "#print(disturb)\n",
    "\n",
    "#if length of disturb is one\n",
    "#it means error is in parity bit\n",
    "if len(disturb)==1:\n",
    "    #performing xor operator to reverse the bit value\n",
    "    received[disturb[0][0]-1]^=1\n",
    "#if length of disturb is not one\n",
    "else:\n",
    "    #take the intersection of all the list available in disturb\n",
    "    #because hamming code considers only 1 error bit correction\n",
    "    set1= set(disturb[0])\n",
    "    \n",
    "    for val in disturb:\n",
    "        set1.intersection_update(set(val))\n",
    "    \n",
    "    #correct the bit\n",
    "    #performing xor operator to reverse the bit value\n",
    "    received[list(set1)[0]-1]^=1\n",
    "\n",
    "print(received)\n",
    "#output toggle's the 7th bit\n",
    "#and gives us correct message"
   ]
  },
  {
   "cell_type": "code",
   "execution_count": 27,
   "id": "48e697a7",
   "metadata": {},
   "outputs": [
    {
     "name": "stdout",
     "output_type": "stream",
     "text": [
      "[0, 1, 0, 1]\n"
     ]
    }
   ],
   "source": [
    "#extract message from this\n",
    "message_= list()\n",
    "\n",
    "for i in range(len(received)):\n",
    "    if i+1 not in pos:\n",
    "        message_.append(received[i])\n",
    "        \n",
    "print(message_)"
   ]
  },
  {
   "cell_type": "code",
   "execution_count": null,
   "id": "540a68d8",
   "metadata": {},
   "outputs": [],
   "source": []
  }
 ],
 "metadata": {
  "kernelspec": {
   "display_name": "Python 3 (ipykernel)",
   "language": "python",
   "name": "python3"
  },
  "language_info": {
   "codemirror_mode": {
    "name": "ipython",
    "version": 3
   },
   "file_extension": ".py",
   "mimetype": "text/x-python",
   "name": "python",
   "nbconvert_exporter": "python",
   "pygments_lexer": "ipython3",
   "version": "3.7.11"
  }
 },
 "nbformat": 4,
 "nbformat_minor": 5
}
